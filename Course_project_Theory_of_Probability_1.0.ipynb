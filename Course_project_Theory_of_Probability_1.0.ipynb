{
 "cells": [
  {
   "cell_type": "markdown",
   "metadata": {},
   "source": [
    "### Курсовой проект по Теории вероятности и математической статистике\n",
    "\n",
    "###### Цель проекта: \n",
    "\n",
    "на базе датасета по фильмам, снятым за длительный период (https://www.kaggle.com/carolzhangdc/imdb-5000-movie-dataset), и датасета по экономическому положению стран (https://www.ilo.org/global/statistics-and-databases/lang--en/index.htm), проверить гипотезу о наличии связи между параметрами созданных фильмов и текущей экономической ситуацией государства."
   ]
  },
  {
   "cell_type": "code",
   "execution_count": 1,
   "metadata": {},
   "outputs": [],
   "source": [
    "import numpy as np\n",
    "import pandas as pd\n",
    "\n",
    "pd.options.display.max_columns = 100"
   ]
  },
  {
   "cell_type": "code",
   "execution_count": 2,
   "metadata": {},
   "outputs": [
    {
     "data": {
      "text/plain": [
       "(5043, 28)"
      ]
     },
     "execution_count": 2,
     "metadata": {},
     "output_type": "execute_result"
    }
   ],
   "source": [
    "data = pd.read_csv('input/movie_metadata.csv')\n",
    "data.shape"
   ]
  },
  {
   "cell_type": "code",
   "execution_count": 3,
   "metadata": {},
   "outputs": [
    {
     "name": "stdout",
     "output_type": "stream",
     "text": [
      "<class 'pandas.core.frame.DataFrame'>\n",
      "RangeIndex: 5043 entries, 0 to 5042\n",
      "Data columns (total 28 columns):\n",
      "color                        5024 non-null object\n",
      "director_name                4939 non-null object\n",
      "num_critic_for_reviews       4993 non-null float64\n",
      "duration                     5028 non-null float64\n",
      "director_facebook_likes      4939 non-null float64\n",
      "actor_3_facebook_likes       5020 non-null float64\n",
      "actor_2_name                 5030 non-null object\n",
      "actor_1_facebook_likes       5036 non-null float64\n",
      "gross                        4159 non-null float64\n",
      "genres                       5043 non-null object\n",
      "actor_1_name                 5036 non-null object\n",
      "movie_title                  5043 non-null object\n",
      "num_voted_users              5043 non-null int64\n",
      "cast_total_facebook_likes    5043 non-null int64\n",
      "actor_3_name                 5020 non-null object\n",
      "facenumber_in_poster         5030 non-null float64\n",
      "plot_keywords                4890 non-null object\n",
      "movie_imdb_link              5043 non-null object\n",
      "num_user_for_reviews         5022 non-null float64\n",
      "language                     5031 non-null object\n",
      "country                      5038 non-null object\n",
      "content_rating               4740 non-null object\n",
      "budget                       4551 non-null float64\n",
      "title_year                   4935 non-null float64\n",
      "actor_2_facebook_likes       5030 non-null float64\n",
      "imdb_score                   5043 non-null float64\n",
      "aspect_ratio                 4714 non-null float64\n",
      "movie_facebook_likes         5043 non-null int64\n",
      "dtypes: float64(13), int64(3), object(12)\n",
      "memory usage: 1.1+ MB\n"
     ]
    }
   ],
   "source": [
    "data.info()"
   ]
  },
  {
   "cell_type": "markdown",
   "metadata": {},
   "source": [
    "### Подготовка данных по фильмам\n",
    "Для получения признаков по жанрам фильмов распарсим значения столбца 'genres' и создадим столбцы, соответствующие названиям жанров. Фильм может одновременно быть в нескольких жанрах."
   ]
  },
  {
   "cell_type": "code",
   "execution_count": 4,
   "metadata": {},
   "outputs": [],
   "source": [
    "list_of_genres = []\n",
    "\n",
    "for i in range(len(data['genres'])):\n",
    "    s = data['genres'][i].split('|')\n",
    "    for j in range(len(s)):\n",
    "        if s[j] not in list_of_genres:\n",
    "            list_of_genres.append(s[j])\n",
    "    s.clear()    "
   ]
  },
  {
   "cell_type": "code",
   "execution_count": 5,
   "metadata": {},
   "outputs": [
    {
     "data": {
      "text/plain": [
       "array(['Action', 'Adventure', 'Fantasy', 'Sci-Fi', 'Thriller',\n",
       "       'Documentary', 'Romance', 'Animation', 'Comedy', 'Family',\n",
       "       'Musical', 'Mystery', 'Western', 'Drama', 'History', 'Sport',\n",
       "       'Crime', 'Horror', 'War', 'Biography', 'Music', 'Game-Show',\n",
       "       'Reality-TV', 'News', 'Short', 'Film-Noir'], dtype='<U11')"
      ]
     },
     "execution_count": 5,
     "metadata": {},
     "output_type": "execute_result"
    }
   ],
   "source": [
    "list_of_genres_ = np.array(list_of_genres).flatten()\n",
    "list_of_genres_"
   ]
  },
  {
   "cell_type": "markdown",
   "metadata": {},
   "source": [
    "Данные в столбце 'content_rating' - это прямое указание на возрастную аудиторию. Это система рейтингов Американской киноассоциации (англ. MPAA film rating system) — принятая в США система оценки содержания фильма, введённая Американской киноассоциацией (MPAA). Вместо стобца 'content_rating' для целей анализа сделаем систему dummy-столбцов."
   ]
  },
  {
   "cell_type": "code",
   "execution_count": 6,
   "metadata": {},
   "outputs": [],
   "source": [
    "data = pd.get_dummies(data, columns=['content_rating']) "
   ]
  },
  {
   "cell_type": "code",
   "execution_count": 7,
   "metadata": {},
   "outputs": [],
   "source": [
    "import warnings\n",
    "warnings.filterwarnings(\"ignore\")\n",
    "\n",
    "data_new = pd.concat([data,pd.DataFrame(columns=list_of_genres)])"
   ]
  },
  {
   "cell_type": "code",
   "execution_count": 8,
   "metadata": {},
   "outputs": [],
   "source": [
    "for j in range(len(list_of_genres)):\n",
    "    data_new[list_of_genres[j]].fillna(0, inplace=True)"
   ]
  },
  {
   "cell_type": "markdown",
   "metadata": {},
   "source": [
    "Для целей исследования такие метаданные фильма, как имена актёров, название, цветность, язык не являются существенными. Соответствующие колонки стираются."
   ]
  },
  {
   "cell_type": "code",
   "execution_count": 9,
   "metadata": {},
   "outputs": [],
   "source": [
    "data_new.drop(['movie_imdb_link', 'plot_keywords', 'movie_title', 'color', 'director_name', 'actor_2_name', 'actor_1_name', 'actor_3_name', 'language'], axis=1, inplace=True)"
   ]
  },
  {
   "cell_type": "markdown",
   "metadata": {},
   "source": [
    "Учитывая, что в каждой стране своё значение ВВП, ограничим исследование страной с наибольшим количеством фильмов. "
   ]
  },
  {
   "cell_type": "code",
   "execution_count": 10,
   "metadata": {},
   "outputs": [
    {
     "data": {
      "text/plain": [
       "USA        3807\n",
       "UK          448\n",
       "France      154\n",
       "Canada      126\n",
       "Germany      97\n",
       "Name: country, dtype: int64"
      ]
     },
     "execution_count": 10,
     "metadata": {},
     "output_type": "execute_result"
    }
   ],
   "source": [
    "data_new['country'].value_counts()[:5]"
   ]
  },
  {
   "cell_type": "markdown",
   "metadata": {},
   "source": [
    "Исследуем выборку по фильмам производства США."
   ]
  },
  {
   "cell_type": "code",
   "execution_count": 11,
   "metadata": {},
   "outputs": [],
   "source": [
    "data_USA = data_new.loc[data_new['country'].isin(['USA']), :]"
   ]
  },
  {
   "cell_type": "code",
   "execution_count": 12,
   "metadata": {},
   "outputs": [],
   "source": [
    "data_USA = data_USA.reset_index(drop=True)"
   ]
  },
  {
   "cell_type": "markdown",
   "metadata": {},
   "source": [
    "Распарсим столбец жанров 'genres' и заполним полученной информацией столбцы с наименованием жанров (из list_of_genres) в бинарном формате (1 и 0)"
   ]
  },
  {
   "cell_type": "code",
   "execution_count": 13,
   "metadata": {},
   "outputs": [],
   "source": [
    "for i in range(len(data_USA['genres'])):\n",
    "    s = data_USA['genres'][i].split('|')\n",
    "    for j in range(len(s)):\n",
    "        for k in range(len(list_of_genres)):\n",
    "            if s[j] == list_of_genres[k]:\n",
    "                data_USA[list_of_genres[k]][i] = 1\n",
    "    s.clear()    "
   ]
  },
  {
   "cell_type": "markdown",
   "metadata": {},
   "source": [
    "Так как страна уже выбрана и жанры уже заполнены в отдельных столбцах, то стираем столбцы 'country' и 'genres', стираем строки, где непонятен год, и переустанавливаем индексы."
   ]
  },
  {
   "cell_type": "code",
   "execution_count": 14,
   "metadata": {},
   "outputs": [],
   "source": [
    "data_USA.drop(['country', 'genres'], axis=1, inplace=True)"
   ]
  },
  {
   "cell_type": "code",
   "execution_count": 15,
   "metadata": {},
   "outputs": [],
   "source": [
    "data_USA = data_USA[data_USA['title_year'].notnull()]"
   ]
  },
  {
   "cell_type": "code",
   "execution_count": 16,
   "metadata": {},
   "outputs": [],
   "source": [
    "data_USA = data_USA.reset_index(drop=True)"
   ]
  },
  {
   "cell_type": "markdown",
   "metadata": {},
   "source": [
    "Пропущенные данные заменим усреднёнными данными, предварительно сгруппированными по годам."
   ]
  },
  {
   "cell_type": "code",
   "execution_count": 17,
   "metadata": {},
   "outputs": [],
   "source": [
    "column_list = ['actor_1_facebook_likes', 'actor_2_facebook_likes', 'actor_3_facebook_likes', 'aspect_ratio', 'budget', 'duration', 'facenumber_in_poster', 'gross', 'num_critic_for_reviews', 'num_user_for_reviews'] "
   ]
  },
  {
   "cell_type": "code",
   "execution_count": 18,
   "metadata": {},
   "outputs": [],
   "source": [
    "for item in column_list:\n",
    "    list_1 = list(data_USA.loc[data_USA[item].isnull(), :].index)\n",
    "    mean_list = data_USA.groupby('title_year', as_index=False)[[item]].mean()\n",
    "    year_list = list(data_USA.loc[data_USA.index.isin(list_1), 'title_year'].values)\n",
    "    mean_1 = mean_list.loc[mean_list['title_year'].isin(year_list), item].mean()\n",
    "    data_USA.loc[data_USA.index.isin(list_1), item] = mean_1      "
   ]
  },
  {
   "cell_type": "markdown",
   "metadata": {},
   "source": [
    "Приведём все данные к одному типу."
   ]
  },
  {
   "cell_type": "code",
   "execution_count": 19,
   "metadata": {},
   "outputs": [],
   "source": [
    "for item in list_of_genres:\n",
    "    data_USA[item] = data_USA[item].astype('float64')"
   ]
  },
  {
   "cell_type": "code",
   "execution_count": 20,
   "metadata": {},
   "outputs": [
    {
     "name": "stdout",
     "output_type": "stream",
     "text": [
      "<class 'pandas.core.frame.DataFrame'>\n",
      "RangeIndex: 3733 entries, 0 to 3732\n",
      "Data columns (total 60 columns):\n",
      "Action                       3733 non-null float64\n",
      "Adventure                    3733 non-null float64\n",
      "Animation                    3733 non-null float64\n",
      "Biography                    3733 non-null float64\n",
      "Comedy                       3733 non-null float64\n",
      "Crime                        3733 non-null float64\n",
      "Documentary                  3733 non-null float64\n",
      "Drama                        3733 non-null float64\n",
      "Family                       3733 non-null float64\n",
      "Fantasy                      3733 non-null float64\n",
      "Film-Noir                    3733 non-null float64\n",
      "Game-Show                    3733 non-null float64\n",
      "History                      3733 non-null float64\n",
      "Horror                       3733 non-null float64\n",
      "Music                        3733 non-null float64\n",
      "Musical                      3733 non-null float64\n",
      "Mystery                      3733 non-null float64\n",
      "News                         3733 non-null float64\n",
      "Reality-TV                   3733 non-null float64\n",
      "Romance                      3733 non-null float64\n",
      "Sci-Fi                       3733 non-null float64\n",
      "Short                        3733 non-null float64\n",
      "Sport                        3733 non-null float64\n",
      "Thriller                     3733 non-null float64\n",
      "War                          3733 non-null float64\n",
      "Western                      3733 non-null float64\n",
      "actor_1_facebook_likes       3733 non-null float64\n",
      "actor_2_facebook_likes       3733 non-null float64\n",
      "actor_3_facebook_likes       3733 non-null float64\n",
      "aspect_ratio                 3733 non-null float64\n",
      "budget                       3733 non-null float64\n",
      "cast_total_facebook_likes    3733 non-null float64\n",
      "content_rating_Approved      3733 non-null float64\n",
      "content_rating_G             3733 non-null float64\n",
      "content_rating_GP            3733 non-null float64\n",
      "content_rating_M             3733 non-null float64\n",
      "content_rating_NC-17         3733 non-null float64\n",
      "content_rating_Not Rated     3733 non-null float64\n",
      "content_rating_PG            3733 non-null float64\n",
      "content_rating_PG-13         3733 non-null float64\n",
      "content_rating_Passed        3733 non-null float64\n",
      "content_rating_R             3733 non-null float64\n",
      "content_rating_TV-14         3733 non-null float64\n",
      "content_rating_TV-G          3733 non-null float64\n",
      "content_rating_TV-MA         3733 non-null float64\n",
      "content_rating_TV-PG         3733 non-null float64\n",
      "content_rating_TV-Y          3733 non-null float64\n",
      "content_rating_TV-Y7         3733 non-null float64\n",
      "content_rating_Unrated       3733 non-null float64\n",
      "content_rating_X             3733 non-null float64\n",
      "director_facebook_likes      3733 non-null float64\n",
      "duration                     3733 non-null float64\n",
      "facenumber_in_poster         3733 non-null float64\n",
      "gross                        3733 non-null float64\n",
      "imdb_score                   3733 non-null float64\n",
      "movie_facebook_likes         3733 non-null float64\n",
      "num_critic_for_reviews       3733 non-null float64\n",
      "num_user_for_reviews         3733 non-null float64\n",
      "num_voted_users              3733 non-null float64\n",
      "title_year                   3733 non-null float64\n",
      "dtypes: float64(60)\n",
      "memory usage: 1.7 MB\n"
     ]
    }
   ],
   "source": [
    "data_USA.info()"
   ]
  },
  {
   "cell_type": "markdown",
   "metadata": {},
   "source": [
    "### Подготовка данных по экономике (ВВП)\n",
    "С сайта International Labour Organization (ILO) берём данные о ВВП (GDP) стран мира."
   ]
  },
  {
   "cell_type": "code",
   "execution_count": 21,
   "metadata": {},
   "outputs": [
    {
     "data": {
      "text/plain": [
       "(264, 64)"
      ]
     },
     "execution_count": 21,
     "metadata": {},
     "output_type": "execute_result"
    }
   ],
   "source": [
    "gdp = pd.read_csv('input/GDP.csv', sep=',', encoding='latin1')\n",
    "gdp.shape"
   ]
  },
  {
   "cell_type": "markdown",
   "metadata": {},
   "source": [
    "Уберём ненужные столбцы."
   ]
  },
  {
   "cell_type": "code",
   "execution_count": 22,
   "metadata": {},
   "outputs": [],
   "source": [
    "gdp.drop(['Country Code', 'Indicator Name', 'Indicator Code'], axis=1, inplace=True)"
   ]
  },
  {
   "cell_type": "markdown",
   "metadata": {},
   "source": [
    "И уберём строки с пропущеным названием страны."
   ]
  },
  {
   "cell_type": "code",
   "execution_count": 23,
   "metadata": {},
   "outputs": [],
   "source": [
    "gdp = gdp[gdp['Country Name'].notnull()]"
   ]
  },
  {
   "cell_type": "markdown",
   "metadata": {},
   "source": [
    "Возьмём данные о ВВП США."
   ]
  },
  {
   "cell_type": "code",
   "execution_count": 24,
   "metadata": {},
   "outputs": [],
   "source": [
    "gdp_USA = gdp.loc[gdp['Country Name']=='United States', :].T"
   ]
  },
  {
   "cell_type": "markdown",
   "metadata": {},
   "source": [
    "Подготовим данные в gdp_USA"
   ]
  },
  {
   "cell_type": "code",
   "execution_count": 25,
   "metadata": {},
   "outputs": [],
   "source": [
    "gdp_USA.reset_index(inplace=True);"
   ]
  },
  {
   "cell_type": "code",
   "execution_count": 26,
   "metadata": {},
   "outputs": [],
   "source": [
    "gdp_USA = gdp_USA.rename(columns={'index': 'title_year', 249: 'gdp'});"
   ]
  },
  {
   "cell_type": "code",
   "execution_count": 27,
   "metadata": {},
   "outputs": [],
   "source": [
    "gdp_USA = gdp_USA.drop([0, 60]);"
   ]
  },
  {
   "cell_type": "code",
   "execution_count": 28,
   "metadata": {},
   "outputs": [],
   "source": [
    "gdp_USA = gdp_USA.reset_index(drop=True);"
   ]
  },
  {
   "cell_type": "markdown",
   "metadata": {},
   "source": [
    "Добавим значение в пустую строку и поменяем тип данных датафрейма"
   ]
  },
  {
   "cell_type": "code",
   "execution_count": 29,
   "metadata": {},
   "outputs": [],
   "source": [
    "gdp_USA.loc[gdp_USA['title_year'] == '2018', 'gdp'] = 2.05134e+13"
   ]
  },
  {
   "cell_type": "code",
   "execution_count": 30,
   "metadata": {},
   "outputs": [],
   "source": [
    "gdp_USA = gdp_USA.astype('float64')"
   ]
  },
  {
   "cell_type": "code",
   "execution_count": 31,
   "metadata": {},
   "outputs": [
    {
     "name": "stdout",
     "output_type": "stream",
     "text": [
      "<class 'pandas.core.frame.DataFrame'>\n",
      "RangeIndex: 59 entries, 0 to 58\n",
      "Data columns (total 2 columns):\n",
      "title_year    59 non-null float64\n",
      "gdp           59 non-null float64\n",
      "dtypes: float64(2)\n",
      "memory usage: 1.0 KB\n"
     ]
    }
   ],
   "source": [
    "gdp_USA.info()"
   ]
  },
  {
   "cell_type": "markdown",
   "metadata": {},
   "source": [
    "### Итоговый датасет для исследования\n",
    "Отсортируем датафрейм по фильмам США по годам, переустановим индексы. "
   ]
  },
  {
   "cell_type": "code",
   "execution_count": 32,
   "metadata": {},
   "outputs": [],
   "source": [
    "data_USA = data_USA.sort_values(by='title_year')"
   ]
  },
  {
   "cell_type": "code",
   "execution_count": 33,
   "metadata": {},
   "outputs": [],
   "source": [
    "data_USA = data_USA.reset_index(drop=True)"
   ]
  },
  {
   "cell_type": "markdown",
   "metadata": {},
   "source": [
    "Произведём слияние датафреймов data_USA и gdp_USA в один датасет по столбцу 'title_year'"
   ]
  },
  {
   "cell_type": "code",
   "execution_count": 34,
   "metadata": {},
   "outputs": [],
   "source": [
    "film_USA = pd.merge(data_USA, gdp_USA, on='title_year', how='left')"
   ]
  },
  {
   "cell_type": "markdown",
   "metadata": {},
   "source": [
    "Уберём строки, где отсутствуют данные по ВВП США (в столбце 'gdp') и нулевые столбцы"
   ]
  },
  {
   "cell_type": "code",
   "execution_count": 35,
   "metadata": {},
   "outputs": [],
   "source": [
    "film_USA = film_USA[film_USA['gdp'].notnull()]"
   ]
  },
  {
   "cell_type": "code",
   "execution_count": 36,
   "metadata": {},
   "outputs": [],
   "source": [
    "film_USA = film_USA.reset_index(drop=True)"
   ]
  },
  {
   "cell_type": "code",
   "execution_count": 37,
   "metadata": {},
   "outputs": [
    {
     "data": {
      "text/plain": [
       "['Film-Noir',\n",
       " 'Game-Show',\n",
       " 'Reality-TV',\n",
       " 'content_rating_Passed',\n",
       " 'content_rating_TV-MA',\n",
       " 'content_rating_TV-Y',\n",
       " 'content_rating_TV-Y7']"
      ]
     },
     "execution_count": 37,
     "metadata": {},
     "output_type": "execute_result"
    }
   ],
   "source": [
    "empty_columns = []\n",
    "film_USA_columns = list(film_USA.columns)\n",
    "for i in film_USA_columns:\n",
    "    if film_USA[i].std() == 0 and film_USA[i].mean() == 0:\n",
    "        empty_columns.append(i)\n",
    "empty_columns"
   ]
  },
  {
   "cell_type": "code",
   "execution_count": 38,
   "metadata": {},
   "outputs": [],
   "source": [
    "film_USA = film_USA.drop(empty_columns, axis=1)"
   ]
  },
  {
   "cell_type": "code",
   "execution_count": 39,
   "metadata": {},
   "outputs": [
    {
     "data": {
      "text/plain": [
       "(3664, 54)"
      ]
     },
     "execution_count": 39,
     "metadata": {},
     "output_type": "execute_result"
    }
   ],
   "source": [
    "film_USA.shape"
   ]
  },
  {
   "cell_type": "markdown",
   "metadata": {},
   "source": [
    "### Проведение многомерного статистического анализа\n",
    "Определение зависимости между признаками. \n",
    "\n",
    "Целевой признак ($Y$) - ВВП (столбец 'gdp'),   \n",
    "остальные признаки составляют матрицу объект-признак ($X$)."
   ]
  },
  {
   "cell_type": "code",
   "execution_count": 40,
   "metadata": {},
   "outputs": [
    {
     "data": {
      "text/plain": [
       "['Action',\n",
       " 'Adventure',\n",
       " 'Animation',\n",
       " 'Biography',\n",
       " 'Comedy',\n",
       " 'Crime',\n",
       " 'Documentary',\n",
       " 'Drama',\n",
       " 'Family',\n",
       " 'Fantasy',\n",
       " 'History',\n",
       " 'Horror',\n",
       " 'Music',\n",
       " 'Musical',\n",
       " 'Mystery',\n",
       " 'News',\n",
       " 'Romance',\n",
       " 'Sci-Fi',\n",
       " 'Short',\n",
       " 'Sport',\n",
       " 'Thriller',\n",
       " 'War',\n",
       " 'Western',\n",
       " 'actor_1_facebook_likes',\n",
       " 'actor_2_facebook_likes',\n",
       " 'actor_3_facebook_likes',\n",
       " 'aspect_ratio',\n",
       " 'budget',\n",
       " 'cast_total_facebook_likes',\n",
       " 'content_rating_Approved',\n",
       " 'content_rating_G',\n",
       " 'content_rating_GP',\n",
       " 'content_rating_M',\n",
       " 'content_rating_NC-17',\n",
       " 'content_rating_Not Rated',\n",
       " 'content_rating_PG',\n",
       " 'content_rating_PG-13',\n",
       " 'content_rating_R',\n",
       " 'content_rating_TV-14',\n",
       " 'content_rating_TV-G',\n",
       " 'content_rating_TV-PG',\n",
       " 'content_rating_Unrated',\n",
       " 'content_rating_X',\n",
       " 'director_facebook_likes',\n",
       " 'duration',\n",
       " 'facenumber_in_poster',\n",
       " 'gross',\n",
       " 'imdb_score',\n",
       " 'movie_facebook_likes',\n",
       " 'num_critic_for_reviews',\n",
       " 'num_user_for_reviews',\n",
       " 'num_voted_users']"
      ]
     },
     "execution_count": 40,
     "metadata": {},
     "output_type": "execute_result"
    }
   ],
   "source": [
    "feats = list(film_USA.columns)\n",
    "feats.remove('title_year')\n",
    "feats.remove('gdp')\n",
    "feats"
   ]
  },
  {
   "cell_type": "code",
   "execution_count": 41,
   "metadata": {},
   "outputs": [],
   "source": [
    "X = film_USA[feats].values"
   ]
  },
  {
   "cell_type": "code",
   "execution_count": 42,
   "metadata": {},
   "outputs": [],
   "source": [
    "Y = film_USA['gdp'].values.reshape(-1, 1)"
   ]
  },
  {
   "cell_type": "code",
   "execution_count": 43,
   "metadata": {},
   "outputs": [],
   "source": [
    "ones = np.ones((X.shape[0], 1))"
   ]
  },
  {
   "cell_type": "code",
   "execution_count": 44,
   "metadata": {},
   "outputs": [],
   "source": [
    "X = np.hstack((ones, X))"
   ]
  },
  {
   "cell_type": "markdown",
   "metadata": {},
   "source": [
    "Проверка ранга матрицы"
   ]
  },
  {
   "cell_type": "code",
   "execution_count": 45,
   "metadata": {},
   "outputs": [
    {
     "data": {
      "text/plain": [
       "53"
      ]
     },
     "execution_count": 45,
     "metadata": {},
     "output_type": "execute_result"
    }
   ],
   "source": [
    "np.linalg.matrix_rank(X)"
   ]
  },
  {
   "cell_type": "code",
   "execution_count": 46,
   "metadata": {},
   "outputs": [
    {
     "data": {
      "text/plain": [
       "53"
      ]
     },
     "execution_count": 46,
     "metadata": {},
     "output_type": "execute_result"
    }
   ],
   "source": [
    "X.shape[1]"
   ]
  },
  {
   "cell_type": "code",
   "execution_count": 47,
   "metadata": {},
   "outputs": [],
   "source": [
    "XTX = X.T.dot(X)"
   ]
  },
  {
   "cell_type": "code",
   "execution_count": 48,
   "metadata": {},
   "outputs": [
    {
     "data": {
      "text/plain": [
       "1.7042133604363456e+220"
      ]
     },
     "execution_count": 48,
     "metadata": {},
     "output_type": "execute_result"
    }
   ],
   "source": [
    "np.linalg.det(XTX)"
   ]
  },
  {
   "cell_type": "code",
   "execution_count": 49,
   "metadata": {},
   "outputs": [],
   "source": [
    "XTX_inv = np.linalg.inv(XTX)"
   ]
  },
  {
   "cell_type": "markdown",
   "metadata": {},
   "source": [
    "Тогда коэффициенты $b_i$ линейного уравнения $Y = b_0 + \\displaystyle\\sum_{i=1}^n(b_i\\cdot x_i) + \\varepsilon$, найденные методом наименьших квадратов:"
   ]
  },
  {
   "cell_type": "code",
   "execution_count": 50,
   "metadata": {},
   "outputs": [
    {
     "data": {
      "text/plain": [
       "array([[ 2.31030723e+13],\n",
       "       [-4.60053070e+11],\n",
       "       [-6.93719078e+11],\n",
       "       [ 1.97473252e+12],\n",
       "       [ 4.16821929e+11],\n",
       "       [-4.33660668e+11],\n",
       "       [-5.05260711e+11],\n",
       "       [ 2.64046114e+12],\n",
       "       [ 4.73844329e+11],\n",
       "       [ 1.83325921e+12],\n",
       "       [-7.94817097e+11],\n",
       "       [ 2.47396386e+11],\n",
       "       [-1.28820123e+12],\n",
       "       [-9.95419529e+09],\n",
       "       [-8.47396048e+11],\n",
       "       [ 1.44083477e+11],\n",
       "       [ 2.40840711e+11],\n",
       "       [-2.24584814e+11],\n",
       "       [-1.12210834e+12],\n",
       "       [-4.33055210e+12],\n",
       "       [ 3.76833480e+10],\n",
       "       [-1.25445133e+11],\n",
       "       [-4.37664182e+11],\n",
       "       [-1.36960613e+12],\n",
       "       [-6.50621519e+07],\n",
       "       [-7.06459403e+07],\n",
       "       [-9.55008879e+07],\n",
       "       [ 4.01140766e+11],\n",
       "       [ 1.20592570e+04],\n",
       "       [ 7.11758929e+07],\n",
       "       [-1.21962117e+13],\n",
       "       [-7.39212258e+12],\n",
       "       [-1.17869030e+13],\n",
       "       [-1.16478397e+13],\n",
       "       [-7.90646391e+12],\n",
       "       [-2.28053477e+12],\n",
       "       [-5.77788486e+12],\n",
       "       [-3.66580988e+12],\n",
       "       [-4.37258296e+12],\n",
       "       [-1.95628594e+11],\n",
       "       [-4.70770993e+12],\n",
       "       [-2.72373485e+12],\n",
       "       [-5.80519559e+12],\n",
       "       [-1.19729787e+13],\n",
       "       [-1.03915270e+08],\n",
       "       [-2.58887484e+10],\n",
       "       [ 1.36902047e+11],\n",
       "       [-6.11770051e+03],\n",
       "       [-1.12031945e+12],\n",
       "       [ 2.26212782e+07],\n",
       "       [ 2.04771108e+10],\n",
       "       [-1.84578726e+09],\n",
       "       [-1.08694822e+06]])"
      ]
     },
     "execution_count": 50,
     "metadata": {},
     "output_type": "execute_result"
    }
   ],
   "source": [
    "B = XTX_inv.dot(X.T).dot(Y)\n",
    "B"
   ]
  },
  {
   "cell_type": "markdown",
   "metadata": {},
   "source": [
    "### Оценка полученной модели линейной регрессии"
   ]
  },
  {
   "cell_type": "markdown",
   "metadata": {},
   "source": [
    "Рассчитаем коэффициент детерминации $R^2$:"
   ]
  },
  {
   "cell_type": "code",
   "execution_count": 51,
   "metadata": {},
   "outputs": [
    {
     "data": {
      "text/plain": [
       "array([[-4.76912268e+10],\n",
       "       [ 8.63203845e+12],\n",
       "       [ 2.27433703e+12],\n",
       "       ...,\n",
       "       [ 1.85820560e+13],\n",
       "       [ 1.64908486e+13],\n",
       "       [ 1.30794555e+13]])"
      ]
     },
     "execution_count": 51,
     "metadata": {},
     "output_type": "execute_result"
    }
   ],
   "source": [
    "Z = X.dot(B)\n",
    "Z"
   ]
  },
  {
   "cell_type": "code",
   "execution_count": 52,
   "metadata": {},
   "outputs": [
    {
     "data": {
      "text/plain": [
       "0.4790584896859787"
      ]
     },
     "execution_count": 52,
     "metadata": {},
     "output_type": "execute_result"
    }
   ],
   "source": [
    "R2 = Z.var() / Y.var()\n",
    "R2"
   ]
  },
  {
   "cell_type": "markdown",
   "metadata": {},
   "source": [
    "Коэффициент детерминации $R^2 = 48 \\%$, то есть примерно только половина дисперсии переменной $Y$ объясняется моделью. "
   ]
  },
  {
   "cell_type": "markdown",
   "metadata": {},
   "source": [
    "Рассчитаем среднюю ошибку аппроксимации $\\overline{A}$:"
   ]
  },
  {
   "cell_type": "code",
   "execution_count": 53,
   "metadata": {},
   "outputs": [
    {
     "data": {
      "text/plain": [
       "0.39065480384904583"
      ]
     },
     "execution_count": 53,
     "metadata": {},
     "output_type": "execute_result"
    }
   ],
   "source": [
    "A = np.abs((Y - Z) / Y).mean()\n",
    "A"
   ]
  },
  {
   "cell_type": "markdown",
   "metadata": {},
   "source": [
    "Средняя ошибка аппроксимации $\\overline{A} = 39 \\% .$    \n",
    "Данное значение выходит за рамки приемлемых $10 \\%$, что означает, что полученная модель линейной регрессии плохо описывает связь между объект-признаком $X$ и целевым признаком $Y$."
   ]
  },
  {
   "cell_type": "markdown",
   "metadata": {},
   "source": [
    "Оценим значимость уравнения регрессии с помощью $F$-критерия Фишера"
   ]
  },
  {
   "cell_type": "code",
   "execution_count": 54,
   "metadata": {},
   "outputs": [
    {
     "data": {
      "text/plain": [
       "(53, 3664)"
      ]
     },
     "execution_count": 54,
     "metadata": {},
     "output_type": "execute_result"
    }
   ],
   "source": [
    "k = X.shape[1]\n",
    "n = X.shape[0]\n",
    "k, n"
   ]
  },
  {
   "cell_type": "code",
   "execution_count": 55,
   "metadata": {},
   "outputs": [
    {
     "data": {
      "text/plain": [
       "62.63699415227138"
      ]
     },
     "execution_count": 55,
     "metadata": {},
     "output_type": "execute_result"
    }
   ],
   "source": [
    "k1 = k\n",
    "k2 = n - k - 1\n",
    "T = R2/(1 - R2) *(k2/k1)\n",
    "T"
   ]
  },
  {
   "cell_type": "markdown",
   "metadata": {},
   "source": [
    "Для уровня значимости $\\alpha = 0.05$ значение $F_{crit} = F(53, 3610)$:"
   ]
  },
  {
   "cell_type": "code",
   "execution_count": 56,
   "metadata": {},
   "outputs": [
    {
     "data": {
      "text/plain": [
       "1.3432030918496802"
      ]
     },
     "execution_count": 56,
     "metadata": {},
     "output_type": "execute_result"
    }
   ],
   "source": [
    "from scipy import stats\n",
    "alpha = 0.05\n",
    "\n",
    "stats.f.ppf(1 - alpha, k1, k2)"
   ]
  },
  {
   "cell_type": "markdown",
   "metadata": {},
   "source": [
    "Так как статистика $T > F_{crit}$, то уравнение регрессии в целом является статистически значимым."
   ]
  },
  {
   "cell_type": "markdown",
   "metadata": {},
   "source": [
    "Попытаемся визуально определить причину высокой средней ошибки аппроксимации и низкого значения коэффициента детерминации."
   ]
  },
  {
   "cell_type": "code",
   "execution_count": 58,
   "metadata": {},
   "outputs": [
    {
     "data": {
      "image/png": "[encoded data removed]",
      "text/plain": [
       "<Figure size 432x288 with 1 Axes>"
      ]
     },
     "metadata": {
      "needs_background": "light"
     },
     "output_type": "display_data"
    }
   ],
   "source": [
    "from matplotlib import pyplot as plt\n",
    "\n",
    "plt.hist(Y, bins=50, color='blue', alpha=0.5, label='Y_target');\n",
    "plt.hist(Z, bins=50, color='red', alpha=0.5, label='Z_predict');\n",
    "plt.title('Y_target and Z_predict')\n",
    "plt.legend(loc='lower right')\n",
    "plt.grid()"
   ]
  },
  {
   "cell_type": "markdown",
   "metadata": {},
   "source": [
    "На графике видно, что рассчётные значения целевого признака ($Z$, красного цвета) имеют распределение, близкое к нормальному, а изначальные значения целевой переменной ($Y$, голубого цвета) распределены в виде капли с длинным левым хвостом. По всей видимости не нормальное распределение $Y$ является причиной плохих значений метрик."
   ]
  },
  {
   "cell_type": "markdown",
   "metadata": {},
   "source": [
    "### ВЫВОД:\n",
    "В результате проведённого многомерного статистического анализа данных была подтверждена гипотеза о наличии связи между параметрами созданных фильмов и текущей экономической ситуацией государства. \n",
    "\n",
    "Была построена модель линейной регрессии вида $Y = b_0 + \\displaystyle\\sum_{i=1}^n(b_i\\cdot x_i)$ с коэффициентом детерминации $R^2 = 48 \\%$ и средней ошибкой аппроксимации $\\overline{A} = 39 \\% .$ Несмотря на плохие значения $R^2$ и $\\overline{A}$, оценка данной модели с помощью $F$-критерия Фишера при $\\alpha = 0.05$ показала её статистическую значимость.   \n",
    "\n",
    "Предположительно, причиной плохой аппроксимации является не нормальное распределение целевой переменной $Y$, что является ограничением для методов корреляционного анализа.   "
   ]
  },
  {
   "cell_type": "code",
   "execution_count": null,
   "metadata": {},
   "outputs": [],
   "source": []
  }
 ],
 "metadata": {
  "kernelspec": {
   "display_name": "Python 3",
   "language": "python",
   "name": "python3"
  },
  "language_info": {
   "codemirror_mode": {
    "name": "ipython",
    "version": 3
   },
   "file_extension": ".py",
   "mimetype": "text/x-python",
   "name": "python",
   "nbconvert_exporter": "python",
   "pygments_lexer": "ipython3",
   "version": "3.7.1"
  }
 },
 "nbformat": 4,
 "nbformat_minor": 2
}
